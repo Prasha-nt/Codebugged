{
  "nbformat": 4,
  "nbformat_minor": 0,
  "metadata": {
    "colab": {
      "provenance": [],
      "gpuType": "T4"
    },
    "kernelspec": {
      "name": "python3",
      "display_name": "Python 3"
    },
    "language_info": {
      "name": "python"
    },
    "accelerator": "GPU"
  },
  "cells": [
    {
      "cell_type": "code",
      "execution_count": null,
      "metadata": {
        "colab": {
          "base_uri": "https://localhost:8080/"
        },
        "id": "7q15ywhJH9OB",
        "outputId": "aadcc55f-4907-4659-b1a5-7a2414bbea8b"
      },
      "outputs": [
        {
          "output_type": "stream",
          "name": "stdout",
          "text": [
            "Requirement already satisfied: kaggle in /usr/local/lib/python3.10/dist-packages (1.6.17)\n",
            "Requirement already satisfied: six>=1.10 in /usr/local/lib/python3.10/dist-packages (from kaggle) (1.16.0)\n",
            "Requirement already satisfied: certifi>=2023.7.22 in /usr/local/lib/python3.10/dist-packages (from kaggle) (2024.8.30)\n",
            "Requirement already satisfied: python-dateutil in /usr/local/lib/python3.10/dist-packages (from kaggle) (2.8.2)\n",
            "Requirement already satisfied: requests in /usr/local/lib/python3.10/dist-packages (from kaggle) (2.32.3)\n",
            "Requirement already satisfied: tqdm in /usr/local/lib/python3.10/dist-packages (from kaggle) (4.66.6)\n",
            "Requirement already satisfied: python-slugify in /usr/local/lib/python3.10/dist-packages (from kaggle) (8.0.4)\n",
            "Requirement already satisfied: urllib3 in /usr/local/lib/python3.10/dist-packages (from kaggle) (2.2.3)\n",
            "Requirement already satisfied: bleach in /usr/local/lib/python3.10/dist-packages (from kaggle) (6.2.0)\n",
            "Requirement already satisfied: webencodings in /usr/local/lib/python3.10/dist-packages (from bleach->kaggle) (0.5.1)\n",
            "Requirement already satisfied: text-unidecode>=1.3 in /usr/local/lib/python3.10/dist-packages (from python-slugify->kaggle) (1.3)\n",
            "Requirement already satisfied: charset-normalizer<4,>=2 in /usr/local/lib/python3.10/dist-packages (from requests->kaggle) (3.4.0)\n",
            "Requirement already satisfied: idna<4,>=2.5 in /usr/local/lib/python3.10/dist-packages (from requests->kaggle) (3.10)\n"
          ]
        }
      ],
      "source": [
        "# Install the Kaggle library\n",
        "!pip install kaggle\n",
        "\n",
        "# Make a directory for Kaggle and move the kaggle.json file there\n",
        "!mkdir -p ~/.kaggle\n",
        "!cp kaggle.json ~/.kaggle/\n",
        "\n",
        "# Set permissions for the kaggle.json file\n",
        "!chmod 600 ~/.kaggle/kaggle.json"
      ]
    },
    {
      "cell_type": "code",
      "source": [
        "# Download the dataset\n",
        "!kaggle competitions download -c store-sales-time-series-forecasting\n",
        "\n",
        "# Unzip the downloaded files\n",
        "!unzip store-sales-time-series-forecasting.zip"
      ],
      "metadata": {
        "colab": {
          "base_uri": "https://localhost:8080/"
        },
        "id": "AMvXjr1MIA8O",
        "outputId": "25a5a6d4-05c5-4ac1-ce1f-e310f0082d9e"
      },
      "execution_count": null,
      "outputs": [
        {
          "output_type": "stream",
          "name": "stdout",
          "text": [
            "Downloading store-sales-time-series-forecasting.zip to /content\n",
            "\r  0% 0.00/21.4M [00:00<?, ?B/s]\r 56% 12.0M/21.4M [00:00<00:00, 117MB/s]\n",
            "\r100% 21.4M/21.4M [00:00<00:00, 145MB/s]\n",
            "Archive:  store-sales-time-series-forecasting.zip\n",
            "  inflating: holidays_events.csv     \n",
            "  inflating: oil.csv                 \n",
            "  inflating: sample_submission.csv   \n",
            "  inflating: stores.csv              \n",
            "  inflating: test.csv                \n",
            "  inflating: train.csv               \n",
            "  inflating: transactions.csv        \n"
          ]
        }
      ]
    },
    {
      "cell_type": "code",
      "source": [
        "# Step 0: Import Libraries\n",
        "import pandas as pd\n",
        "import lightgbm as lgb\n",
        "from sklearn.model_selection import train_test_split\n",
        "from sklearn.metrics import mean_squared_log_error\n",
        "import numpy as np\n",
        "from sklearn.preprocessing import LabelEncoder  # Import LabelEncoder\n",
        "\n",
        "# Step 1: Load Data\n",
        "train = pd.read_csv('train.csv')\n",
        "test = pd.read_csv('test.csv')\n",
        "\n",
        "# Step 2: Feature Engineering\n",
        "# Convert date to datetime\n",
        "train['date'] = pd.to_datetime(train['date'])\n",
        "test['date'] = pd.to_datetime(test['date'])\n",
        "\n",
        "# Extracting year, month, day, and day_of_week\n",
        "train['year'] = train['date'].dt.year\n",
        "train['month'] = train['date'].dt.month\n",
        "train['day'] = train['date'].dt.day\n",
        "train['day_of_week'] = train['date'].dt.dayofweek\n",
        "\n",
        "test['year'] = test['date'].dt.year\n",
        "test['month'] = test['date'].dt.month\n",
        "test['day'] = test['date'].dt.day\n",
        "test['day_of_week'] = test['date'].dt.dayofweek\n",
        "\n",
        "# Convert categorical columns to numeric using Label Encoding\n",
        "label_encoder = LabelEncoder()\n",
        "train['family'] = label_encoder.fit_transform(train['family'])\n",
        "test['family'] = label_encoder.transform(test['family'])\n",
        "\n",
        "# Step 3: Prepare Training Data\n",
        "# Define features and target\n",
        "X = train.drop(['id', 'date', 'sales'], axis=1)  # Drop sales and non-features\n",
        "y = train['sales']\n",
        "\n",
        "# Split the data into training and validation sets\n",
        "X_train, X_val, y_train, y_val = train_test_split(X, y, test_size=0.2, random_state=42)\n",
        "\n",
        "# Step 4: Set Parameters for LightGBM\n",
        "params = {\n",
        "    'objective': 'regression',\n",
        "    'metric': 'rmse',  # Using RMSE as the metric\n",
        "    'learning_rate': 0.05,\n",
        "    'num_leaves': 31,\n",
        "    'feature_fraction': 0.9,\n",
        "    'bagging_fraction': 0.8,\n",
        "    'bagging_freq': 5,\n",
        "    'verbose': -1\n",
        "}\n",
        "\n",
        "# Step 5: Create the LightGBM Model\n",
        "model = lgb.LGBMRegressor(**params)\n",
        "\n",
        "# Step 6: Fit the Model on the Training Data\n",
        "model.fit(\n",
        "    X_train, y_train,\n",
        "    eval_set=[(X_val, y_val)],\n",
        "    eval_metric='rmse'\n",
        ")\n",
        "\n",
        "# Step 7: Make Predictions on the Validation Set\n",
        "y_pred = model.predict(X_val)\n",
        "\n",
        "# Step 8: Evaluate the Model using RMSLE\n",
        "# Note: RMSLE cannot handle negative values\n",
        "y_pred = np.maximum(0, y_pred)  # Ensure predictions are non-negative\n",
        "rmsle = np.sqrt(mean_squared_log_error(y_val, y_pred))\n",
        "print(f'RMSLE: {rmsle}')\n",
        "\n",
        "# Step 9: Prepare Submission\n",
        "X_test = test.drop(['id', 'date'], axis=1)  # Drop id and date for prediction\n",
        "test_preds = model.predict(X_test)\n",
        "\n",
        "# Prepare the submission DataFrame\n",
        "submission = pd.DataFrame({\n",
        "    'id': test['id'],\n",
        "    'sales': np.maximum(0, test_preds)  # Ensure no negative sales predictions\n",
        "})\n",
        "\n",
        "# Save to CSV\n",
        "submission.to_csv('submission.csv', index=False)\n",
        "\n",
        "# Check submission file\n",
        "print(submission.head())"
      ],
      "metadata": {
        "colab": {
          "base_uri": "https://localhost:8080/"
        },
        "id": "AmuCxQo3Qqnx",
        "outputId": "2acfee68-40cd-4bc1-b5c5-5293f34395fc"
      },
      "execution_count": null,
      "outputs": [
        {
          "output_type": "stream",
          "name": "stderr",
          "text": [
            "/usr/local/lib/python3.10/dist-packages/dask/dataframe/__init__.py:42: FutureWarning: \n",
            "Dask dataframe query planning is disabled because dask-expr is not installed.\n",
            "\n",
            "You can install it with `pip install dask[dataframe]` or `conda install dask`.\n",
            "This will raise in a future version.\n",
            "\n",
            "  warnings.warn(msg, FutureWarning)\n"
          ]
        },
        {
          "output_type": "stream",
          "name": "stdout",
          "text": [
            "RMSLE: 2.407784213495835\n",
            "        id        sales\n",
            "0  3000888    49.091944\n",
            "1  3000889    49.091944\n",
            "2  3000890   191.178956\n",
            "3  3000891  2751.867901\n",
            "4  3000892   146.846532\n"
          ]
        }
      ]
    }
  ]
}